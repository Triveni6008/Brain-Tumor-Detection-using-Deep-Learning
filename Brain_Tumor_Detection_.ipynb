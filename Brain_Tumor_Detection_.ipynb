{
  "nbformat": 4,
  "nbformat_minor": 0,
  "metadata": {
    "colab": {
      "provenance": []
    },
    "kernelspec": {
      "name": "python3",
      "display_name": "Python 3"
    },
    "language_info": {
      "name": "python"
    }
  },
  "cells": [
    {
      "cell_type": "code",
      "execution_count": null,
      "metadata": {
        "id": "-vqgXsi_npPy"
      },
      "outputs": [],
      "source": [
        "import numpy as np # linear algebra\n",
        "import pandas as pd # data processing, CSV file I/O (e.g. pd.read_csv)\n",
        "\n",
        "\n",
        "import os"
      ]
    },
    {
      "cell_type": "code",
      "source": [
        "from matplotlib import pyplot as plt\n",
        "%matplotlib inline\n",
        "import tensorflow as tf\n",
        "from tensorflow import keras\n",
        "from keras import Sequential,models,layers\n",
        "from tensorflow.keras.preprocessing import image\n",
        "from keras.preprocessing.image import ImageDataGenerator\n",
        "from numpy import asarray\n",
        "import PIL\n",
        "import cv2"
      ],
      "metadata": {
        "id": "jbRJ0z6VoA6L"
      },
      "execution_count": null,
      "outputs": []
    },
    {
      "cell_type": "code",
      "source": [
        "gen = ImageDataGenerator(rescale=1./255,validation_split = 0.2,zoom_range=(0.99,0.99),dtype=tf.float32)"
      ],
      "metadata": {
        "id": "fK6eSyofoPRX"
      },
      "execution_count": null,
      "outputs": []
    },
    {
      "cell_type": "code",
      "source": [
        "from google.colab import drive\n",
        "drive.mount('/content/drive')"
      ],
      "metadata": {
        "colab": {
          "base_uri": "https://localhost:8080/"
        },
        "id": "MrnqknnJoR8I",
        "outputId": "751cad31-30c5-40a3-df8c-174251ab2f0a"
      },
      "execution_count": null,
      "outputs": [
        {
          "output_type": "stream",
          "name": "stdout",
          "text": [
            "Mounted at /content/drive\n"
          ]
        }
      ]
    },
    {
      "cell_type": "code",
      "source": [
        "import torch\n",
        "import torch.nn as nn\n",
        "import torchvision.transforms as transforms\n",
        "from PIL import Image\n",
        "import gc"
      ],
      "metadata": {
        "id": "YAwzdZpKpZJG"
      },
      "execution_count": null,
      "outputs": []
    },
    {
      "cell_type": "code",
      "source": [
        "import os\n",
        "dataset_path = '/content/drive/MyDrive/brain tumor data set'\n",
        "\n",
        "paths = []\n",
        "labels = []\n",
        "\n",
        "for label in ['yes','no']:\n",
        "    for dirname, _, filenames in os.walk(os.path.join(dataset_path,label)):\n",
        "        for filename in filenames:\n",
        "            paths.append(os.path.join(dirname, filename))\n",
        "            labels.append(1 if label is 'yes' else 0)\n",
        "\n",
        "len(paths), len(labels)"
      ],
      "metadata": {
        "colab": {
          "base_uri": "https://localhost:8080/"
        },
        "id": "CuGt0pQ-sNJG",
        "outputId": "e8aafc74-c5b0-457e-c699-fe3c3f4f3d3a"
      },
      "execution_count": null,
      "outputs": [
        {
          "output_type": "execute_result",
          "data": {
            "text/plain": [
              "(253, 253)"
            ]
          },
          "metadata": {},
          "execution_count": 7
        }
      ]
    },
    {
      "cell_type": "code",
      "source": [
        "sizes = []\n",
        "for path in paths:\n",
        "    im = Image.open(path)\n",
        "    sizes.append(im.size)\n",
        "    im.close()\n",
        "\n",
        "print(max(sizes), min(sizes))"
      ],
      "metadata": {
        "colab": {
          "base_uri": "https://localhost:8080/"
        },
        "id": "W7gctKRYsgso",
        "outputId": "b8b49b3a-2a0d-4682-b126-82a7d3c68171"
      },
      "execution_count": null,
      "outputs": [
        {
          "output_type": "stream",
          "name": "stdout",
          "text": [
            "(1920, 1080) (150, 198)\n"
          ]
        }
      ]
    },
    {
      "cell_type": "code",
      "source": [
        "from sklearn.model_selection import train_test_split\n",
        "\n",
        "X_train, X_test, y_train, y_test = train_test_split(paths,\n",
        "                                                    labels,\n",
        "                                                    stratify=labels,\n",
        "                                                    test_size=0.2,\n",
        "                                                    shuffle=True,\n",
        "                                                    random_state=1357\n",
        "                                                   )\n",
        "\n",
        "print(len(X_train), len(X_test))"
      ],
      "metadata": {
        "colab": {
          "base_uri": "https://localhost:8080/"
        },
        "id": "Nl0uA8Kwsk0U",
        "outputId": "6b34922a-8305-424f-9db9-9553101380ec"
      },
      "execution_count": null,
      "outputs": [
        {
          "output_type": "stream",
          "name": "stdout",
          "text": [
            "202 51\n"
          ]
        }
      ]
    },
    {
      "cell_type": "code",
      "source": [
        "class MRIDataset():\n",
        "    def __init__(self, paths, labels, augmentations=None):\n",
        "        self.paths = paths\n",
        "        self.labels = labels\n",
        "\n",
        "        if augmentations is None:\n",
        "            self.augmentations = transforms.Compose([transforms.ToTensor()])\n",
        "        else:\n",
        "            self.augmentations = augmentations\n",
        "\n",
        "    def __len__(self):\n",
        "        return len(self.paths)\n",
        "\n",
        "    def __getitem__(self, index):\n",
        "\n",
        "        label = self.labels[index]\n",
        "\n",
        "        sample = Image.open(self.paths[index]).convert(mode=\"RGB\")\n",
        "        sample = self.augmentations(sample)\n",
        "\n",
        "        return (sample,torch.tensor(label, dtype=torch.float))"
      ],
      "metadata": {
        "id": "AynGT3Q0sxjb"
      },
      "execution_count": null,
      "outputs": []
    },
    {
      "cell_type": "code",
      "source": [
        "train_augmentations = transforms.Compose([transforms.Resize((224,224)),\n",
        "                                          transforms.RandomHorizontalFlip(0.2),\n",
        "                                          transforms.RandomVerticalFlip(0.1),\n",
        "                                          transforms.RandomAutocontrast(0.2),\n",
        "                                          transforms.RandomAdjustSharpness(0.3),\n",
        "                                          transforms.ToTensor()\n",
        "                                         ])\n",
        "\n",
        "test_augmentations = transforms.Compose([transforms.Resize((224,224)),\n",
        "                                          transforms.RandomHorizontalFlip(0.2),\n",
        "                                          transforms.RandomVerticalFlip(0.1),\n",
        "                                          transforms.RandomAutocontrast(0.2),\n",
        "                                          transforms.RandomAdjustSharpness(0.3),\n",
        "                                          transforms.ToTensor()\n",
        "                                         ])"
      ],
      "metadata": {
        "id": "tZbhdd7Ls2rY"
      },
      "execution_count": null,
      "outputs": []
    },
    {
      "cell_type": "code",
      "source": [
        "train_dataset = MRIDataset(X_train, y_train, augmentations=train_augmentations)\n",
        "test_dataset = MRIDataset(X_test, y_test, augmentations=test_augmentations)"
      ],
      "metadata": {
        "id": "mhsfSmG7s5VP"
      },
      "execution_count": null,
      "outputs": []
    },
    {
      "cell_type": "code",
      "source": [
        "import matplotlib.pyplot as plt\n",
        "\n",
        "random_sample, random_label = test_dataset[0]\n",
        "print(random_sample.shape)\n",
        "plt.imshow(random_sample.permute(1,2,0))\n",
        "print(random_label.item())"
      ],
      "metadata": {
        "colab": {
          "base_uri": "https://localhost:8080/",
          "height": 304
        },
        "id": "kVtT0R9bs8Xf",
        "outputId": "03274c76-6690-497c-e364-16c25036dce4"
      },
      "execution_count": null,
      "outputs": [
        {
          "output_type": "stream",
          "name": "stdout",
          "text": [
            "torch.Size([3, 224, 224])\n",
            "1.0\n"
          ]
        },
        {
          "output_type": "display_data",
          "data": {
            "text/plain": [
              "<Figure size 432x288 with 1 Axes>"
            ],
            "image/png": "[encoded data removed]"
          },
          "metadata": {
            "needs_background": "light"
          }
        }
      ]
    },
    {
      "cell_type": "code",
      "source": [
        "class Config:\n",
        "    learning_rate = 1e-3\n",
        "    epochs = 10\n",
        "    train_batch_size = 8\n",
        "    test_batch_size = 8"
      ],
      "metadata": {
        "id": "JTLlxljvs_NN"
      },
      "execution_count": null,
      "outputs": []
    },
    {
      "cell_type": "code",
      "source": [
        "train_dataloader = torch.utils.data.DataLoader(train_dataset,\n",
        "                                               batch_size = Config.train_batch_size,\n",
        "                                               shuffle = True,\n",
        "                                               num_workers = 2\n",
        "                                              )\n",
        "\n",
        "test_dataloader = torch.utils.data.DataLoader(test_dataset,\n",
        "                                              batch_size = Config.test_batch_size,\n",
        "                                              shuffle = True,\n",
        "                                              num_workers = 2\n",
        "                                              )\n",
        "\n",
        "len(train_dataloader), len(test_dataloader)"
      ],
      "metadata": {
        "colab": {
          "base_uri": "https://localhost:8080/"
        },
        "id": "VhZpFIqrtDfa",
        "outputId": "f97649ed-e097-4d2c-fae1-8f1c1b597ff3"
      },
      "execution_count": null,
      "outputs": [
        {
          "output_type": "execute_result",
          "data": {
            "text/plain": [
              "(26, 7)"
            ]
          },
          "metadata": {},
          "execution_count": 15
        }
      ]
    },
    {
      "cell_type": "code",
      "source": [
        "class Model(nn.Module):\n",
        "\n",
        "    def __init__(self, in_features=3):\n",
        "        super(Model, self).__init__()\n",
        "\n",
        "\n",
        "        self.conv_block = nn.Sequential(nn.Conv2d(in_channels=in_features,\n",
        "                                                 out_channels=32,\n",
        "                                                 kernel_size=3,\n",
        "                                                 stride=1\n",
        "                                                 ),\n",
        "                                       nn.ReLU(),\n",
        "                                       nn.MaxPool2d(2,2),\n",
        "\n",
        "                                       nn.Conv2d(in_channels=32,\n",
        "                                                 out_channels=64,\n",
        "                                                 kernel_size=3,\n",
        "                                                 stride=1\n",
        "                                                ),\n",
        "                                       nn.ReLU(),\n",
        "                                       nn.MaxPool2d(2,2)\n",
        "                                      )\n",
        "\n",
        "        self.linear_block = nn.Sequential(nn.Linear(64*54*54, 1024),\n",
        "                                          nn.ReLU(),\n",
        "                                          nn.Dropout(0.5),\n",
        "                                          nn.Linear(1024,256),\n",
        "                                          nn.ReLU(),\n",
        "                                          nn.Dropout(0.3),\n",
        "                                          nn.Linear(256,1)\n",
        "                                         )\n",
        "\n",
        "\n",
        "    def forward(self,x):\n",
        "        x = self.conv_block(x)\n",
        "        x = torch.flatten(x,1)\n",
        "        x = self.linear_block(x)\n",
        "        return x"
      ],
      "metadata": {
        "id": "H3sajU72tL-j"
      },
      "execution_count": null,
      "outputs": []
    },
    {
      "cell_type": "code",
      "source": [
        "model = Model()\n",
        "print(model)"
      ],
      "metadata": {
        "colab": {
          "base_uri": "https://localhost:8080/"
        },
        "id": "e3PXWSfqtRFB",
        "outputId": "a0769147-d317-4408-967d-af9e81b8dd65"
      },
      "execution_count": null,
      "outputs": [
        {
          "output_type": "stream",
          "name": "stdout",
          "text": [
            "Model(\n",
            "  (conv_block): Sequential(\n",
            "    (0): Conv2d(3, 32, kernel_size=(3, 3), stride=(1, 1))\n",
            "    (1): ReLU()\n",
            "    (2): MaxPool2d(kernel_size=2, stride=2, padding=0, dilation=1, ceil_mode=False)\n",
            "    (3): Conv2d(32, 64, kernel_size=(3, 3), stride=(1, 1))\n",
            "    (4): ReLU()\n",
            "    (5): MaxPool2d(kernel_size=2, stride=2, padding=0, dilation=1, ceil_mode=False)\n",
            "  )\n",
            "  (linear_block): Sequential(\n",
            "    (0): Linear(in_features=186624, out_features=1024, bias=True)\n",
            "    (1): ReLU()\n",
            "    (2): Dropout(p=0.5, inplace=False)\n",
            "    (3): Linear(in_features=1024, out_features=256, bias=True)\n",
            "    (4): ReLU()\n",
            "    (5): Dropout(p=0.3, inplace=False)\n",
            "    (6): Linear(in_features=256, out_features=1, bias=True)\n",
            "  )\n",
            ")\n"
          ]
        }
      ]
    },
    {
      "cell_type": "code",
      "source": [
        "device = \"cuda\" if torch.cuda.is_available() else \"cpu\"\n",
        "model = model.to(device)"
      ],
      "metadata": {
        "id": "UlvY3AxZtTr7"
      },
      "execution_count": null,
      "outputs": []
    },
    {
      "cell_type": "code",
      "source": [
        "class Trainer:\n",
        "\n",
        "    def __init__(self, model, dataloaders, Config):\n",
        "        self.model = model\n",
        "        self.train, self.test = dataloaders\n",
        "\n",
        "        self.Config = Config\n",
        "\n",
        "        self.optim = torch.optim.Adam(self.model.parameters(), lr=self.Config.learning_rate)\n",
        "        self.loss_fn = nn.BCEWithLogitsLoss()\n",
        "\n",
        "\n",
        "    def binary_accuracy(self, outputs, labels):\n",
        "        return (torch.round(torch.sigmoid(outputs)) == labels).sum().item() / labels.shape[0]\n",
        "\n",
        "\n",
        "    def train_one_epoch(self):\n",
        "\n",
        "        running_loss = 0\n",
        "        running_acc = 0\n",
        "\n",
        "        for X,y in self.train:\n",
        "\n",
        "            X = X.to(device, dtype = torch.float)\n",
        "            y = y.reshape(y.shape[0],1)\n",
        "            y = y.to(device, dtype = torch.float)\n",
        "\n",
        "            self.optim.zero_grad()\n",
        "\n",
        "            outputs = self.model(X)\n",
        "            loss = self.loss_fn(outputs, y)\n",
        "\n",
        "            loss.backward()\n",
        "            self.optim.step()\n",
        "\n",
        "            running_loss += loss.item()\n",
        "            running_acc += self.binary_accuracy(outputs, y)\n",
        "\n",
        "            del X\n",
        "            del y\n",
        "            gc.collect()\n",
        "            torch.cuda.empty_cache()\n",
        "\n",
        "        train_loss = running_loss / len(self.train)\n",
        "        train_acc = running_acc / len(self.train)\n",
        "\n",
        "        return train_loss, train_acc\n",
        "\n",
        "\n",
        "    def fit(self):\n",
        "\n",
        "        losses = []\n",
        "        accuracies = []\n",
        "\n",
        "        for epoch in range(self.Config.epochs):\n",
        "\n",
        "            self.model.train()\n",
        "\n",
        "            train_loss, train_acc = self.train_one_epoch()\n",
        "            losses.append(train_loss)\n",
        "            accuracies.append(train_acc)\n",
        "\n",
        "            print(f\"EPOCH {epoch+1}/{self.Config.epochs}\")\n",
        "            print(f\"Training Loss: {train_loss} | Training Accuracy: {train_acc}\\n\\n\")\n",
        "\n",
        "\n",
        "    @torch.no_grad()\n",
        "    def inference(self):\n",
        "\n",
        "        self.model.eval()\n",
        "\n",
        "        running_acc = 0\n",
        "\n",
        "        for X,y in self.test:\n",
        "\n",
        "            X = X.to(device, torch.float)\n",
        "            y = y.reshape(y.shape[0],1)\n",
        "            y = y.to(device, dtype = torch.float)\n",
        "            outputs = self.model(X)\n",
        "            running_acc += self.binary_accuracy(outputs, y)\n",
        "\n",
        "            del X\n",
        "            del y\n",
        "            gc.collect()\n",
        "            torch.cuda.empty_cache()\n",
        "\n",
        "        accuracy = running_acc / len(self.test)\n",
        "\n",
        "        return accuracy"
      ],
      "metadata": {
        "id": "cmo2gcPjtZFr"
      },
      "execution_count": null,
      "outputs": []
    },
    {
      "cell_type": "code",
      "source": [
        "trainer = Trainer(model, (train_dataloader, test_dataloader), Config)\n",
        "trainer.fit()"
      ],
      "metadata": {
        "colab": {
          "base_uri": "https://localhost:8080/"
        },
        "id": "ksJpUqr8tbf_",
        "outputId": "c7c088b3-2e07-4d64-df91-5258164c96f1"
      },
      "execution_count": null,
      "outputs": [
        {
          "output_type": "stream",
          "name": "stdout",
          "text": [
            "EPOCH 1/10\n",
            "Training Loss: 0.86711007471268 | Training Accuracy: 0.5817307692307693\n",
            "\n",
            "\n",
            "EPOCH 2/10\n",
            "Training Loss: 0.5791318399401811 | Training Accuracy: 0.7403846153846154\n",
            "\n",
            "\n",
            "EPOCH 3/10\n",
            "Training Loss: 0.49124571451774013 | Training Accuracy: 0.8076923076923077\n",
            "\n",
            "\n",
            "EPOCH 4/10\n",
            "Training Loss: 0.4186655959257713 | Training Accuracy: 0.8173076923076923\n",
            "\n",
            "\n",
            "EPOCH 5/10\n",
            "Training Loss: 0.3774581147501102 | Training Accuracy: 0.8701923076923077\n",
            "\n",
            "\n",
            "EPOCH 6/10\n",
            "Training Loss: 0.3364033865240904 | Training Accuracy: 0.875\n",
            "\n",
            "\n",
            "EPOCH 7/10\n",
            "Training Loss: 0.24468535139637354 | Training Accuracy: 0.8990384615384616\n",
            "\n",
            "\n",
            "EPOCH 8/10\n",
            "Training Loss: 0.19065524290244168 | Training Accuracy: 0.9423076923076923\n",
            "\n",
            "\n",
            "EPOCH 9/10\n",
            "Training Loss: 0.26933293868429387 | Training Accuracy: 0.8942307692307693\n",
            "\n",
            "\n",
            "EPOCH 10/10\n",
            "Training Loss: 0.16238184180558443 | Training Accuracy: 0.9471153846153846\n",
            "\n",
            "\n"
          ]
        }
      ]
    },
    {
      "cell_type": "code",
      "source": [
        "accuracy = trainer.inference()\n",
        "accuracy*100"
      ],
      "metadata": {
        "colab": {
          "base_uri": "https://localhost:8080/"
        },
        "id": "XfyrBHlwtfNt",
        "outputId": "010aa115-cb84-4df5-a5e8-b40c72a341ce"
      },
      "execution_count": null,
      "outputs": [
        {
          "output_type": "execute_result",
          "data": {
            "text/plain": [
              "91.07142857142857"
            ]
          },
          "metadata": {},
          "execution_count": 22
        }
      ]
    },
    {
      "cell_type": "code",
      "source": [
        "import keras\n",
        "from keras.models import Sequential\n",
        "from keras.layers import Conv2D, MaxPooling2D, Flatten, Dense, Dropout, BatchNormalization\n",
        "from PIL import Image\n",
        "plt.style.use('dark_background')\n",
        "from sklearn.model_selection import train_test_split\n",
        "from sklearn.preprocessing import OneHotEncoder"
      ],
      "metadata": {
        "id": "qhnum-Obwp59"
      },
      "execution_count": null,
      "outputs": []
    },
    {
      "cell_type": "code",
      "source": [
        "encoder = OneHotEncoder()\n",
        "encoder.fit([[0], [1]])"
      ],
      "metadata": {
        "colab": {
          "base_uri": "https://localhost:8080/"
        },
        "id": "RI-TQ0Mnw7Eo",
        "outputId": "b43416c0-2d85-4ad5-a6da-a187387a5b94"
      },
      "execution_count": null,
      "outputs": [
        {
          "output_type": "execute_result",
          "data": {
            "text/plain": [
              "OneHotEncoder()"
            ]
          },
          "metadata": {},
          "execution_count": 24
        }
      ]
    },
    {
      "cell_type": "code",
      "source": [
        "data = []\n",
        "paths = []\n",
        "result = []\n",
        "\n",
        "for r, d, f in os.walk(r'/content/drive/MyDrive/brain tumor data set/yes'):\n",
        "    for file in f:\n",
        "        if '.jpg' in file:\n",
        "            paths.append(os.path.join(r, file))\n",
        "\n",
        "for path in paths:\n",
        "    img = Image.open(path)\n",
        "    img = img.resize((128,128))\n",
        "    img = np.array(img)\n",
        "    if(img.shape == (128,128,3)):\n",
        "        data.append(np.array(img))\n",
        "        result.append(encoder.transform([[0]]).toarray())\n",
        "print(result)"
      ],
      "metadata": {
        "colab": {
          "base_uri": "https://localhost:8080/"
        },
        "id": "aGbQXYBbw9sU",
        "outputId": "169d4dc0-d856-4a77-86a0-2fd25313da9c"
      },
      "execution_count": null,
      "outputs": [
        {
          "output_type": "stream",
          "name": "stdout",
          "text": [
            "[array([[1., 0.]]), array([[1., 0.]]), array([[1., 0.]]), array([[1., 0.]]), array([[1., 0.]]), array([[1., 0.]]), array([[1., 0.]]), array([[1., 0.]]), array([[1., 0.]]), array([[1., 0.]]), array([[1., 0.]]), array([[1., 0.]]), array([[1., 0.]]), array([[1., 0.]]), array([[1., 0.]]), array([[1., 0.]]), array([[1., 0.]]), array([[1., 0.]]), array([[1., 0.]]), array([[1., 0.]]), array([[1., 0.]]), array([[1., 0.]]), array([[1., 0.]]), array([[1., 0.]]), array([[1., 0.]]), array([[1., 0.]]), array([[1., 0.]]), array([[1., 0.]]), array([[1., 0.]]), array([[1., 0.]]), array([[1., 0.]]), array([[1., 0.]]), array([[1., 0.]]), array([[1., 0.]]), array([[1., 0.]]), array([[1., 0.]]), array([[1., 0.]]), array([[1., 0.]]), array([[1., 0.]]), array([[1., 0.]]), array([[1., 0.]]), array([[1., 0.]]), array([[1., 0.]]), array([[1., 0.]]), array([[1., 0.]]), array([[1., 0.]]), array([[1., 0.]]), array([[1., 0.]]), array([[1., 0.]]), array([[1., 0.]]), array([[1., 0.]]), array([[1., 0.]]), array([[1., 0.]]), array([[1., 0.]]), array([[1., 0.]]), array([[1., 0.]]), array([[1., 0.]]), array([[1., 0.]]), array([[1., 0.]]), array([[1., 0.]]), array([[1., 0.]]), array([[1., 0.]]), array([[1., 0.]]), array([[1., 0.]]), array([[1., 0.]]), array([[1., 0.]]), array([[1., 0.]]), array([[1., 0.]]), array([[1., 0.]]), array([[1., 0.]])]\n"
          ]
        }
      ]
    },
    {
      "cell_type": "code",
      "source": [
        "paths = []\n",
        "for r, d, f in os.walk(r\"/content/drive/MyDrive/brain tumor data set/no\"):\n",
        "    for file in f:\n",
        "        if '.jpg' in file:\n",
        "            paths.append(os.path.join(r, file))\n",
        "\n",
        "for path in paths:\n",
        "    img = Image.open(path)\n",
        "    img = img.resize((128,128))\n",
        "    img = np.array(img)\n",
        "    if(img.shape == (128,128,3)):\n",
        "        data.append(np.array(img))\n",
        "        result.append(encoder.transform([[1]]).toarray())"
      ],
      "metadata": {
        "id": "Q0sccLiPxIIL"
      },
      "execution_count": null,
      "outputs": []
    },
    {
      "cell_type": "code",
      "source": [
        "data = np.array(data)\n",
        "data.shape"
      ],
      "metadata": {
        "colab": {
          "base_uri": "https://localhost:8080/"
        },
        "id": "QDc4c5EoxOX-",
        "outputId": "186b6134-2afc-4e66-f9b9-b73cbf0079b4"
      },
      "execution_count": null,
      "outputs": [
        {
          "output_type": "execute_result",
          "data": {
            "text/plain": [
              "(139, 128, 128, 3)"
            ]
          },
          "metadata": {},
          "execution_count": 27
        }
      ]
    },
    {
      "cell_type": "code",
      "source": [
        "result = np.array(result)\n",
        "result = result.reshape(139,2)\n",
        "x_train,x_test,y_train,y_test = train_test_split(data, result, test_size=0.2, shuffle=True, random_state=0)"
      ],
      "metadata": {
        "id": "mhZTCOOrxTEr"
      },
      "execution_count": null,
      "outputs": []
    },
    {
      "cell_type": "code",
      "source": [
        "model = Sequential()\n",
        "\n",
        "model.add(Conv2D(32, kernel_size=(2, 2), input_shape=(128, 128, 3), padding = 'Same'))\n",
        "model.add(Conv2D(32, kernel_size=(2, 2),  activation ='relu', padding = 'Same'))\n",
        "\n",
        "\n",
        "model.add(BatchNormalization())\n",
        "model.add(MaxPooling2D(pool_size=(2, 2)))\n",
        "model.add(Dropout(0.25))\n",
        "\n",
        "model.add(Conv2D(64, kernel_size = (2,2), activation ='relu', padding = 'Same'))\n",
        "model.add(Conv2D(64, kernel_size = (2,2), activation ='relu', padding = 'Same'))\n",
        "\n",
        "model.add(BatchNormalization())\n",
        "model.add(MaxPooling2D(pool_size=(2,2), strides=(2,2)))\n",
        "model.add(Dropout(0.25))\n",
        "\n",
        "model.add(Flatten())\n",
        "\n",
        "model.add(Dense(512, activation='relu'))\n",
        "model.add(Dropout(0.5))\n",
        "model.add(Dense(2, activation='softmax'))\n",
        "\n",
        "model.compile(loss = \"categorical_crossentropy\", optimizer='Adamax')\n",
        "print(model.summary())"
      ],
      "metadata": {
        "colab": {
          "base_uri": "https://localhost:8080/"
        },
        "id": "pAUr7EZcxZkI",
        "outputId": "908de06c-393b-4388-c0af-8e6b7d7c473e"
      },
      "execution_count": null,
      "outputs": [
        {
          "output_type": "stream",
          "name": "stdout",
          "text": [
            "Model: \"sequential\"\n",
            "_________________________________________________________________\n",
            " Layer (type)                Output Shape              Param #   \n",
            "=================================================================\n",
            " conv2d (Conv2D)             (None, 128, 128, 32)      416       \n",
            "                                                                 \n",
            " conv2d_1 (Conv2D)           (None, 128, 128, 32)      4128      \n",
            "                                                                 \n",
            " batch_normalization (BatchN  (None, 128, 128, 32)     128       \n",
            " ormalization)                                                   \n",
            "                                                                 \n",
            " max_pooling2d (MaxPooling2D  (None, 64, 64, 32)       0         \n",
            " )                                                               \n",
            "                                                                 \n",
            " dropout (Dropout)           (None, 64, 64, 32)        0         \n",
            "                                                                 \n",
            " conv2d_2 (Conv2D)           (None, 64, 64, 64)        8256      \n",
            "                                                                 \n",
            " conv2d_3 (Conv2D)           (None, 64, 64, 64)        16448     \n",
            "                                                                 \n",
            " batch_normalization_1 (Batc  (None, 64, 64, 64)       256       \n",
            " hNormalization)                                                 \n",
            "                                                                 \n",
            " max_pooling2d_1 (MaxPooling  (None, 32, 32, 64)       0         \n",
            " 2D)                                                             \n",
            "                                                                 \n",
            " dropout_1 (Dropout)         (None, 32, 32, 64)        0         \n",
            "                                                                 \n",
            " flatten (Flatten)           (None, 65536)             0         \n",
            "                                                                 \n",
            " dense (Dense)               (None, 512)               33554944  \n",
            "                                                                 \n",
            " dropout_2 (Dropout)         (None, 512)               0         \n",
            "                                                                 \n",
            " dense_1 (Dense)             (None, 2)                 1026      \n",
            "                                                                 \n",
            "=================================================================\n",
            "Total params: 33,585,602\n",
            "Trainable params: 33,585,410\n",
            "Non-trainable params: 192\n",
            "_________________________________________________________________\n",
            "None\n"
          ]
        }
      ]
    },
    {
      "cell_type": "code",
      "source": [
        "y_train.shape"
      ],
      "metadata": {
        "colab": {
          "base_uri": "https://localhost:8080/"
        },
        "id": "-lti385nxcKo",
        "outputId": "a87e826a-4be2-4098-de22-497f565e8826"
      },
      "execution_count": null,
      "outputs": [
        {
          "output_type": "execute_result",
          "data": {
            "text/plain": [
              "(111, 2)"
            ]
          },
          "metadata": {},
          "execution_count": 30
        }
      ]
    },
    {
      "cell_type": "code",
      "source": [
        "history = model.fit(x_train, y_train, epochs = 5, batch_size = 40, verbose = 1,validation_data = (x_test, y_test))"
      ],
      "metadata": {
        "colab": {
          "base_uri": "https://localhost:8080/"
        },
        "id": "5D0jKk7jxfy-",
        "outputId": "f59517ef-c884-453d-8ff1-b744dd0d7bb6"
      },
      "execution_count": null,
      "outputs": [
        {
          "output_type": "stream",
          "name": "stdout",
          "text": [
            "Epoch 1/5\n",
            "3/3 [==============================] - 12s 4s/step - loss: 70.7818 - val_loss: 30.7367\n",
            "Epoch 2/5\n",
            "3/3 [==============================] - 7s 2s/step - loss: 13.5431 - val_loss: 71.0112\n",
            "Epoch 3/5\n",
            "3/3 [==============================] - 7s 2s/step - loss: 7.0379 - val_loss: 23.1326\n",
            "Epoch 4/5\n",
            "3/3 [==============================] - 7s 2s/step - loss: 2.5444 - val_loss: 13.5069\n",
            "Epoch 5/5\n",
            "3/3 [==============================] - 7s 2s/step - loss: 3.0904 - val_loss: 12.7304\n"
          ]
        }
      ]
    },
    {
      "cell_type": "code",
      "source": [
        "plt.plot(history.history['loss'])\n",
        "plt.plot(history.history['val_loss'])\n",
        "plt.title('Model Loss')\n",
        "plt.ylabel('Loss')\n",
        "plt.xlabel('Epoch')\n",
        "plt.legend(['Test', 'Validation'], loc='upper right')\n",
        "plt.show()"
      ],
      "metadata": {
        "colab": {
          "base_uri": "https://localhost:8080/",
          "height": 295
        },
        "id": "Qc78TCL_xjdn",
        "outputId": "36cccc0a-9f31-43e4-e39f-bef400793c0a"
      },
      "execution_count": null,
      "outputs": [
        {
          "output_type": "display_data",
          "data": {
            "text/plain": [
              "<Figure size 432x288 with 1 Axes>"
            ],
            "image/png": "[encoded data removed]"
          },
          "metadata": {}
        }
      ]
    },
    {
      "cell_type": "code",
      "source": [
        "def names(number):\n",
        "    if number==0:\n",
        "        return 'Its a Tumor'\n",
        "    else:\n",
        "        return 'No, Its not a tumor'"
      ],
      "metadata": {
        "id": "kauNDdizyaCB"
      },
      "execution_count": null,
      "outputs": []
    },
    {
      "cell_type": "code",
      "source": [
        "from matplotlib.pyplot import imshow\n",
        "img = Image.open(r\"/content/drive/MyDrive/brain tumor data set/no/11 no.jpg\")\n",
        "x = np.array(img.resize((128,128)))\n",
        "x = x.reshape(1,128,128,3)\n",
        "res = model.predict_on_batch(x)\n",
        "classification = np.where(res == np.amax(res))[1][0]\n",
        "imshow(img)\n",
        "print(str(res[0][classification]*100) + '% Confidence ' + names(classification))"
      ],
      "metadata": {
        "colab": {
          "base_uri": "https://localhost:8080/",
          "height": 256
        },
        "id": "CKlT6S4fyhXy",
        "outputId": "b41f6043-9cab-4ab0-cc43-8cd7ad8af74f"
      },
      "execution_count": null,
      "outputs": [
        {
          "output_type": "stream",
          "name": "stdout",
          "text": [
            "100.0% Confidence No, Its not a tumor\n"
          ]
        },
        {
          "output_type": "display_data",
          "data": {
            "text/plain": [
              "<Figure size 432x288 with 1 Axes>"
            ],
            "image/png": "[encoded data removed]"
          },
          "metadata": {}
        }
      ]
    },
    {
      "cell_type": "code",
      "source": [],
      "metadata": {
        "id": "9TeTtKNMyofh"
      },
      "execution_count": null,
      "outputs": []
    }
  ]
}